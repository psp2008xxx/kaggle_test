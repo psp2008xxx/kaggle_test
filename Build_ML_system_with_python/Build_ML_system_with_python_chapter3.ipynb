{
 "cells": [
  {
   "cell_type": "code",
   "execution_count": 29,
   "metadata": {},
   "outputs": [],
   "source": [
    "from sklearn.feature_extraction.text import CountVectorizer\n",
    "from sklearn.feature_extraction.text import TfidfVectorizer\n",
    "import os\n",
    "import scipy as sp\n",
    "import nltk\n",
    "import nltk.stem\n",
    "import numpy as np"
   ]
  },
  {
   "cell_type": "code",
   "execution_count": 2,
   "metadata": {},
   "outputs": [],
   "source": [
    "english_stemmer = nltk.stem.SnowballStemmer('english')\n",
    "# class StemmedCountVectorizer(CountVectorizer):\n",
    "#     def build_analyzer(self):\n",
    "#         analyzer = super(StemmedCountVectorizer, self).build_analyzer()\n",
    "#         return lambda doc: (english_stemmer.stem(w) for w in analyzer(doc))\n",
    "# vectorizer1 = StemmedCountVectorizer(min_df=1, stop_words='english')\n",
    "# vectorizer1 = CountVectorizer(min_df=1, stop_words='english', preprocessor=english_stemmer.stem)"
   ]
  },
  {
   "cell_type": "code",
   "execution_count": 3,
   "metadata": {},
   "outputs": [],
   "source": [
    "class StemmedTfidfVectorizer(TfidfVectorizer):\n",
    "    def bulid_analyzer(self):\n",
    "        analyzer = super(StemmedTfidfVectorizer, self).bulid_analyzer()\n",
    "        return lambda doc: (english_stemmer.stem(w) for w in analyzer(doc))\n",
    "\n",
    "vectorizer1 = StemmedTfidfVectorizer(min_df=1, stop_words='english', decode_error='ignore')\n",
    "# vectorizer1 = TfidfVectorizer(min_df=1, stop_words='english', preprocessor=english_stemmer.stem) "
   ]
  },
  {
   "cell_type": "code",
   "execution_count": 4,
   "metadata": {},
   "outputs": [
    {
     "data": {
      "text/plain": [
       "['actually',\n",
       " 'capabilities',\n",
       " 'contains',\n",
       " 'data',\n",
       " 'databases',\n",
       " 'images',\n",
       " 'imaging',\n",
       " 'interesting',\n",
       " 'learning',\n",
       " 'machine',\n",
       " 'permanently',\n",
       " 'post',\n",
       " 'provide',\n",
       " 'save',\n",
       " 'storage',\n",
       " 'store',\n",
       " 'stuff',\n",
       " 'toy']"
      ]
     },
     "execution_count": 4,
     "metadata": {},
     "output_type": "execute_result"
    }
   ],
   "source": [
    "# DIR = r'D:\\Machine_Learning_kuni\\BuildingMachineLearningSystemsWithPython-master\\ch03\\data\\toy'\n",
    "DIR = r'C:\\Users\\kuni\\Desktop\\titanic\\BuildingMachineLearningSystemsWithPython-master\\ch03\\data\\toy'\n",
    "files = os.listdir(DIR)\n",
    "contents = []\n",
    "for file in files:\n",
    "    with open(os.path.join(DIR, file), 'r') as f:\n",
    "        content = f.read()\n",
    "        contents.append(content)\n",
    "X_train = vectorizer1.fit_transform(contents)\n",
    "vectorizer1.get_feature_names()"
   ]
  },
  {
   "cell_type": "code",
   "execution_count": 5,
   "metadata": {},
   "outputs": [],
   "source": [
    "new_post = 'imaging databases'\n",
    "new_post_vec = vectorizer1.transform([new_post])"
   ]
  },
  {
   "cell_type": "code",
   "execution_count": 6,
   "metadata": {},
   "outputs": [],
   "source": [
    "def dist_raw(v1, v2):\n",
    "    v1_normalized = v1/sp.linalg.norm(v1.toarray())\n",
    "    v2_normolized = v2/sp.linalg.norm(v2.toarray())\n",
    "    delta = v1_normalized-v2_normolized\n",
    "    return sp.linalg.norm(delta.toarray())"
   ]
  },
  {
   "cell_type": "code",
   "execution_count": 7,
   "metadata": {},
   "outputs": [
    {
     "name": "stdout",
     "output_type": "stream",
     "text": [
      "===Post 0 with dist=1.41: This is a toy post about machine learning. Actually, it contains not much interesting stuff.\n",
      "===Post 1 with dist=1.08: Imaging databases provide storage capabilities.\n",
      "===Post 2 with dist=1.08: Most imaging databases save images permanently.\n",
      "\n",
      "===Post 3 with dist=0.92: Imaging databases store data.\n",
      "===Post 4 with dist=0.92: Imaging databases store data. Imaging databases store data. Imaging databases store data.\n",
      "Best post is 3 with dist 0.92\n"
     ]
    }
   ],
   "source": [
    "import sys\n",
    "best_doc = None\n",
    "best_dist = sys.maxsize\n",
    "best_i = None\n",
    "for i, post in enumerate(contents):\n",
    "    if post == new_post:\n",
    "        continue\n",
    "    post_vec = X_train.getrow(i)\n",
    "    d = dist_raw(post_vec, new_post_vec)\n",
    "    print('===Post %i with dist=%.2f: %s' %(i, d, post))\n",
    "    if d<best_dist:\n",
    "        best_dist = d\n",
    "        best_i = i\n",
    "        \n",
    "print(\"Best post is %i with dist %.2f\" %(best_i, best_dist))"
   ]
  },
  {
   "cell_type": "code",
   "execution_count": 9,
   "metadata": {},
   "outputs": [],
   "source": [
    "from sklearn import datasets"
   ]
  },
  {
   "cell_type": "code",
   "execution_count": 10,
   "metadata": {},
   "outputs": [],
   "source": [
    "all_data = datasets.fetch_20newsgroups(subset='all')"
   ]
  },
  {
   "cell_type": "code",
   "execution_count": 20,
   "metadata": {},
   "outputs": [
    {
     "name": "stdout",
     "output_type": "stream",
     "text": [
      "3529 2349\n"
     ]
    }
   ],
   "source": [
    "groups = ['comp.graphics', 'comp.os.ms-windows.misc','comp.sys.ibm.pc.hardware', 'comp.sys.mac.hardware', 'comp.windows.x', 'sci.space']\n",
    "train_data = datasets.fetch_20newsgroups(subset='train', categories=groups)\n",
    "test_data = datasets.fetch_20newsgroups(subset='test', categories=groups)\n",
    "print(len(train_data.filenames), len(test_data.filenames))"
   ]
  },
  {
   "cell_type": "code",
   "execution_count": 40,
   "metadata": {},
   "outputs": [
    {
     "data": {
      "text/plain": [
       "(3529, 5651)"
      ]
     },
     "execution_count": 40,
     "metadata": {},
     "output_type": "execute_result"
    }
   ],
   "source": [
    "vectorizer = StemmedTfidfVectorizer(min_df=10, max_df=0.5, stop_words='english', decode_error='ignore')\n",
    "# vectorizer = TfidfVectorizer(min_df=1, max_df=0.5, stop_words='english', decode_error='ignore', preprocessor=english_stemmer.stem)\n",
    "vectorized = vectorizer.fit_transform(train_data.data)\n",
    "vectorized.shape"
   ]
  },
  {
   "cell_type": "code",
   "execution_count": 23,
   "metadata": {},
   "outputs": [
    {
     "name": "stdout",
     "output_type": "stream",
     "text": [
      "Initialization complete\n",
      "Iteration  0, inertia 5975.258\n",
      "Iteration  1, inertia 3239.926\n",
      "Iteration  2, inertia 3205.974\n",
      "Iteration  3, inertia 3188.750\n",
      "Iteration  4, inertia 3179.113\n",
      "Iteration  5, inertia 3173.326\n",
      "Iteration  6, inertia 3169.006\n",
      "Iteration  7, inertia 3165.893\n",
      "Iteration  8, inertia 3163.532\n",
      "Iteration  9, inertia 3161.955\n",
      "Iteration 10, inertia 3160.855\n",
      "Iteration 11, inertia 3160.066\n",
      "Iteration 12, inertia 3159.503\n",
      "Iteration 13, inertia 3158.896\n",
      "Iteration 14, inertia 3158.242\n",
      "Iteration 15, inertia 3157.406\n",
      "Iteration 16, inertia 3156.724\n",
      "Iteration 17, inertia 3156.069\n",
      "Iteration 18, inertia 3154.935\n",
      "Iteration 19, inertia 3154.300\n",
      "Iteration 20, inertia 3154.224\n",
      "Iteration 21, inertia 3154.154\n",
      "Iteration 22, inertia 3154.136\n",
      "Iteration 23, inertia 3154.122\n",
      "Iteration 24, inertia 3154.111\n",
      "Converged at iteration 24: center shift 0.000000e+00 within tolerance 1.731605e-08\n"
     ]
    },
    {
     "data": {
      "text/plain": [
       "KMeans(algorithm='auto', copy_x=True, init='random', max_iter=300,\n",
       "    n_clusters=50, n_init=1, n_jobs=1, precompute_distances='auto',\n",
       "    random_state=3, tol=0.0001, verbose=1)"
      ]
     },
     "execution_count": 23,
     "metadata": {},
     "output_type": "execute_result"
    }
   ],
   "source": [
    "num_clusters = 50\n",
    "from sklearn.cluster import KMeans\n",
    "km = KMeans(n_clusters=num_clusters, init='random', n_init=1, verbose=1, random_state=3)\n",
    "km.fit(vectorized)"
   ]
  },
  {
   "cell_type": "code",
   "execution_count": 43,
   "metadata": {},
   "outputs": [
    {
     "data": {
      "text/plain": [
       "array([7])"
      ]
     },
     "execution_count": 43,
     "metadata": {},
     "output_type": "execute_result"
    }
   ],
   "source": [
    "new_post1 = \"Disk drive problems. Hi, I have a problem with my hard disk. After 1 year it is working only sporadically now. I tried to format it, but now it doesn't boot any more. Any ideas? Thanks.\"\n",
    "new_post_vec = vectorizer.transform([new_post1])\n",
    "new_post_label = km.predict(new_post_vec)\n",
    "new_post_label"
   ]
  },
  {
   "cell_type": "code",
   "execution_count": 51,
   "metadata": {},
   "outputs": [
    {
     "data": {
      "text/plain": [
       "149"
      ]
     },
     "execution_count": 51,
     "metadata": {},
     "output_type": "execute_result"
    }
   ],
   "source": [
    "similar_indices = (km.labels_==new_post_label).nonzero()[0]\n",
    "len(similar_indices)"
   ]
  },
  {
   "cell_type": "code",
   "execution_count": 57,
   "metadata": {},
   "outputs": [],
   "source": [
    "similar = []\n",
    "for i in similar_indices:\n",
    "    dist = sp.linalg.norm((new_post_vec - vectorized[i]).toarray())\n",
    "    similar.append((dist, train_data.data[i]))\n",
    "similar = sorted(similar)\n"
   ]
  },
  {
   "cell_type": "code",
   "execution_count": 59,
   "metadata": {},
   "outputs": [],
   "source": [
    "show_at_1 = similar[0]\n",
    "show_at_2 = similar[int(len(similar)/10)]\n",
    "show_at_3 = similar[int(len(similar)/2)]"
   ]
  },
  {
   "cell_type": "code",
   "execution_count": 62,
   "metadata": {},
   "outputs": [
    {
     "name": "stdout",
     "output_type": "stream",
     "text": [
      "(1.0807851743953758, \"From: Thomas Dachsel <GERTHD@mvs.sas.com>\\nSubject: BOOT PROBLEM with IDE controller\\nNntp-Posting-Host: sdcmvs.mvs.sas.com\\nOrganization: SAS Institute Inc.\\nLines: 25\\n\\nHi,\\nI've got a Multi I/O card (IDE controller + serial/parallel\\ninterface) and two floppy drives (5 1/4, 3 1/2) and a\\nQuantum ProDrive 80AT connected to it.\\nI was able to format the hard disk, but I could not boot from\\nit. I can boot from drive A: (which disk drive does not matter)\\nbut if I remove the disk from drive A and press the reset switch,\\nthe LED of drive A: continues to glow, and the hard disk is\\nnot accessed at all.\\nI guess this must be a problem of either the Multi I/o card\\nor floppy disk drive settings (jumper configuration?)\\nDoes someone have any hint what could be the reason for it.\\nPlease reply by email to GERTHD@MVS.SAS.COM\\nThanks,\\nThomas\\n+-------------------------------------------------------------------+\\n| Thomas Dachsel                                                    |\\n| Internet: GERTHD@MVS.SAS.COM                                      |\\n| Fidonet:  Thomas_Dachsel@camel.fido.de (2:247/40)                 |\\n| Subnet:   dachsel@rnivh.rni.sub.org (UUCP in Germany, now active) |\\n| Phone:    +49 6221 4150 (work), +49 6203 12274 (home)             |\\n| Fax:      +49 6221 415101                                         |\\n| Snail:    SAS Institute GmbH, P.O.Box 105307, D-W-6900 Heidelberg |\\n| Tagline:  One bad sector can ruin a whole day...                  |\\n+-------------------------------------------------------------------+\\n\") \n",
      "\n",
      "\n",
      " (1.2407046119944114, 'From: ejbehr@rs6000.cmp.ilstu.edu (Eric Behr)\\nSubject: Asante EN/SC hangs SCSI devices\\nReply-To: behr@math.ilstu.edu (Eric Behr)\\nOrganization: Central Illinois Surfing Club\\nLines: 31\\n\\nI just hooked up my Mac IIsi to a relatively old (1 year?) Asante EN/SC\\nadapter. The 10Base-T connection works like a charm. I installed the\\nnewest drivers from Asante\\'s ftp server.\\n\\nThe problem begins when I attach one more device to the SCSI chain -\\nspecifically a 50MB drive. I power up the drive, then the Mac. The Mac\\ntests memory, etc. Just before the \"happy Mac face\" normally shows up, the\\npower light on the EN/SC goes out, and the boot process stops. So I can use\\nthe network, or the external drive, but not both at once. This makes the\\nAsante box pretty much unusable.\\n\\nIt doesn\\'t look like a purely electrical SCSI problem, because if I turn\\non the drive just a second or so too late, so that it doesn\\'t get noticed\\nduring the initial SCSI polling, the Mac boots normally and the adapter\\nworks, even though the hard disk is powered on and connected. The Mac has\\n*never* once failed to boot from its internal drive up to now (and I\\'ve had\\nit for over a year).\\n\\nHere is what I tried: changing the SCSI ID\\'s of the EN/SC and the disk --\\nseveral permutations; changing the order of devices, i.e. the EN/SC at the\\nhead or tail of the chain; overterminating with an external terminator\\n(both devices have internal ones); underterminating, i.e. removing internal\\nresistors from the hard disk; trying another EN/SC box; trying another\\nidentical drive; trying several different SCSI cables.\\n\\nHas anybody seen this? More importantly, does anyone have a solution?\\nThanks a lot.    E.\\n\\n-- \\nEric Behr, Illinois State University, Mathematics Department\\nbehr@math.ilstu.edu   or   behr@ilstu.bitnet  (please avoid!)\\n') \n",
      "\n",
      "\n",
      " (1.3421400956327432, 'From: richk@grebyn.com (Richard Krehbiel)\\nSubject: Re: IDE vs SCSI\\nIn-Reply-To: ez033672@rocky.ucdavis.edu\\'s message of Thu, 15 Apr 1993 03:02:20 GMT\\nLines: 26\\nOrganization: Grebyn Timesharing, Inc.\\n\\nIn article <C5I8Fx.8FC@ucdavis.edu> ez033672@rocky.ucdavis.edu (The Great Randalli!) writes:\\n\\n>     Can anyone explain in fairly simple terms why, if I get OS/2, I might \\n>   need an SCSI controler rather than an IDE.  Will performance suffer that\\n>   much?  For a 200MB or so drive?  If I don\\'t have a tape drive or CD-ROM?\\n>   Any help would be appreciated.\\n>\\n>   Richard Randall -- <ez033672@hamlet.ucdavis.edu>\\n\\nThere is a way in which a multi-tasking computer actually gives you\\nmore CPU power then you had before, and that is with I/O overlap.\\nWith I/O overlap, your CPU can continue to \"think\" while disk\\noperations are underway, whereas without overlap, your CPU sits idly\\nwaiting for each disk operation to finish - and disk operations take\\nan *eternity*, compared to a fast CPU.\\n\\nSo, when you\\'ve got multi-tasking, you want to increase performance by\\nincreasing the amount of overlapping you do.\\n\\nOne way is with DMA or bus mastering.  Either of these make it\\npossible for I/O devices to move their data into and out of memory\\nwithout interrupting the CPU.  The alternative is for the CPU to move\\nthe data.  There are several SCSI interface cards that allow DMA and\\nbus mastering.  IDE, however, is defined by the standard AT interface\\ncreated for the IBM PC AT, which requires the CPU to move all the data\\nbytes, with no DMA.\\n-- \\nRichard Krehbiel                                 richk@grebyn.com\\nOS/2 2.0 will do for me until AmigaDOS for the 386 comes along...\\n')\n"
     ]
    }
   ],
   "source": [
    "print(show_at_1, '\\n\\n\\n', show_at_2, '\\n\\n\\n',show_at_3)"
   ]
  },
  {
   "cell_type": "code",
   "execution_count": null,
   "metadata": {},
   "outputs": [],
   "source": []
  },
  {
   "cell_type": "code",
   "execution_count": null,
   "metadata": {},
   "outputs": [],
   "source": []
  },
  {
   "cell_type": "code",
   "execution_count": null,
   "metadata": {},
   "outputs": [],
   "source": []
  },
  {
   "cell_type": "code",
   "execution_count": null,
   "metadata": {},
   "outputs": [],
   "source": []
  },
  {
   "cell_type": "code",
   "execution_count": null,
   "metadata": {},
   "outputs": [],
   "source": []
  },
  {
   "cell_type": "code",
   "execution_count": null,
   "metadata": {},
   "outputs": [],
   "source": []
  }
 ],
 "metadata": {
  "kernelspec": {
   "display_name": "Python 3",
   "language": "python",
   "name": "python3"
  },
  "language_info": {
   "codemirror_mode": {
    "name": "ipython",
    "version": 3
   },
   "file_extension": ".py",
   "mimetype": "text/x-python",
   "name": "python",
   "nbconvert_exporter": "python",
   "pygments_lexer": "ipython3",
   "version": "3.6.5"
  }
 },
 "nbformat": 4,
 "nbformat_minor": 2
}
